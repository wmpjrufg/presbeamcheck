{
 "cells": [
  {
   "cell_type": "code",
   "execution_count": 1,
   "metadata": {},
   "outputs": [],
   "source": [
    "from protendido import obj_ic_jack_priscilla_sobol"
   ]
  },
  {
   "cell_type": "code",
   "execution_count": 2,
   "metadata": {},
   "outputs": [],
   "source": [
    "# Presstressed beam parameters\n",
    "g_ext = 10.75       # Nome no Streamlit: Carga externa permanente (kN/m)\n",
    "q = 5.00            # Nome no Streamlit: Carga variável de utilização (kN/m)\n",
    "l = 12              # Nome no Streamlit: Vão da viga (m)\n",
    "f_c = 30.00         # Nome no Streamlit: Resistência característica à compressão no serviço (MPa) \n",
    "f_cj = 24.56        # Nome no Streamlit: Resistência característica à compressão no ato (MPa)\n",
    "phi_a = 2.00        # Nome no Streamlit: Coeficiente de fluência para carregamento no ato\n",
    "phi_b = 1.50        # Nome no Streamlit: Coeficiente de fluência para carregamento no serviço\n",
    "psi = 0.60          # Nome no Streamlit: Coeficiente ψ redutor para ação variável\n",
    "perda_inicial = 5   # Nome no Streamlit: Estimativa pecentual da perda inicial de protensão (%)\n",
    "perda_final = 20    # Nome no Streamlit: Estimativa pecentual da perda total de protensão (%)\n",
    "\n",
    "# Algorithm parameters\n",
    "iterations = 50     # Nome no Streamlit: Número de iterações do otimizador\n",
    "pop_size = 30       # Nome no Streamlit: Número de agentes para busca\n",
    "n_lambda = 20       # Isso aqui vamos usar sempre 20, o usuário não vai poder editar vai ser \"variável de ambiente\" nossa  \n",
    "n_length = 20000    # Isso aqui vamos usar sempre 20000, o usuário não vai poder editar vai ser \"variável de ambiente\" nossa  \n",
    "pres_min = 100      # Nome no Streamlit: Carga de protensão (kN) - valor inferior\n",
    "pres_max = 1000     # Nome no Streamlit: Carga de protensão (kN) - valor superior\n",
    "exc_min = 0.10      # Nome no Streamlit: Excentricidade de protensão (m) - valor inferior\n",
    "exc_max = 1.00      # Nome no Streamlit: Excentricidade de protensão (m) - valor superior\n",
    "width_min = 0.14    # Nome no Streamlit: Largura da seção (m) - valor inferior\n",
    "width_max = 2.00    # Nome no Streamlit: Largura da seção (m) - valor superior\n",
    "height_min = 0.14   # Nome no Streamlit: Altura da seção (m) - valor inferior\n",
    "height_max = 2.00   # Nome no Streamlit: Altura da seção (m) - valor superior"
   ]
  },
  {
   "cell_type": "code",
   "execution_count": 3,
   "metadata": {},
   "outputs": [
    {
     "name": "stdout",
     "output_type": "stream",
     "text": [
      "        s_i       s_t\n",
      "0  0.002226 -0.008448\n",
      "1  0.002180 -0.008404\n",
      "2  0.452625  0.538512\n",
      "3  0.451816  0.547788\n"
     ]
    }
   ],
   "source": [
    "from parepy_toolbox import sobol_algorithm\n",
    "\n",
    "# Dataset\n",
    "p = {'type': 'uniform', 'parameters': {'min': pres_min, 'max': pres_max}, 'stochastic variable': False}\n",
    "e_p = {'type': 'uniform', 'parameters': {'min': exc_min, 'max': exc_max}, 'stochastic variable': False}\n",
    "b_w = {'type': 'uniform', 'parameters': {'min': width_min, 'max': width_max}, 'stochastic variable': False}\n",
    "h = {'type': 'uniform', 'parameters': {'min': height_min, 'max': height_max}, 'stochastic variable': False}\n",
    "var = [p, e_p, b_w, h]\n",
    "\n",
    "variaveis_proj = {\n",
    "                        'g (kN/m)': g_ext,\n",
    "                        'q (kN/m)': q,\n",
    "                        'l (m)': l,\n",
    "                        'tipo de seção': 'retangular',\n",
    "                        'fck,ato (kPa)': f_cj * 1E3,\n",
    "                        'fck (kPa)': f_c * 1E3,\n",
    "                        'lambda': 10,\n",
    "                        'rp': 1E6,\n",
    "                        'fator de fluência para o ato': phi_a,\n",
    "                        'fator de fluência para o serviço': phi_b,\n",
    "                        'flecha limite de fabrica (m)': l/1000,\n",
    "                        'flecha limite de serviço (m)': l/250,\n",
    "                        'coeficiente parcial para carga q': psi,\n",
    "                        'perda inicial de protensão (%)': perda_inicial,\n",
    "                        'perda total de protensão (%)': perda_final\n",
    "                    }\n",
    "# PAREpy setup\n",
    "setup = {\n",
    "             'number of samples': 50000, \n",
    "             'number of dimensions': len(var), \n",
    "             'numerical model': {'model sampling': 'lhs'}, \n",
    "             'variables settings': var, \n",
    "             'number of state limit functions or constraints': 1, \n",
    "             'none variable': variaveis_proj,\n",
    "             'objective function': obj_ic_jack_priscilla_sobol,\n",
    "             'name simulation': None,\n",
    "        }\n",
    "\n",
    "# Call algorithm\n",
    "data_sobol = sobol_algorithm(setup)\n",
    "print(data_sobol)"
   ]
  },
  {
   "cell_type": "code",
   "execution_count": 4,
   "metadata": {},
   "outputs": [
    {
     "data": {
      "image/png": "[encoded data removed]",
      "text/plain": [
       "<Figure size 640x480 with 1 Axes>"
      ]
     },
     "metadata": {},
     "output_type": "display_data"
    }
   ],
   "source": [
    "import matplotlib.pyplot as plt\n",
    "\n",
    "# Extract values\n",
    "variables = ['x_0', 'x_1', 'x_2', 'x_3']\n",
    "s_i = [data_sobol.iloc[var]['s_i'] for var in range(len(variables))]\n",
    "s_t = [data_sobol.iloc[var]['s_t'] for var in range(len(variables))]\n",
    "\n",
    "# Plot bar chart for Sobol indixes\n",
    "x = range(len(variables))\n",
    "width = 0.35\n",
    "plt.bar(x, s_i, width, label='First-order (s_i)', color='blue', alpha=0.7)\n",
    "plt.bar([p + width for p in x], s_t, width, label='Total-order (s_t)', color='orange', alpha=0.7)\n",
    "plt.xlabel(\"Variables\")\n",
    "plt.ylabel(\"Sobol Index\")\n",
    "plt.xticks([p + width / 2 for p in x], variables)\n",
    "plt.legend()\n",
    "plt.show()"
   ]
  }
 ],
 "metadata": {
  "kernelspec": {
   "display_name": "ambiente_presb",
   "language": "python",
   "name": "python3"
  },
  "language_info": {
   "codemirror_mode": {
    "name": "ipython",
    "version": 3
   },
   "file_extension": ".py",
   "mimetype": "text/x-python",
   "name": "python",
   "nbconvert_exporter": "python",
   "pygments_lexer": "ipython3",
   "version": "3.12.9"
  }
 },
 "nbformat": 4,
 "nbformat_minor": 2
}
